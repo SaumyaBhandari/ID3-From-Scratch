{
 "cells": [
  {
   "cell_type": "code",
   "execution_count": 1,
   "id": "a5b21da4",
   "metadata": {},
   "outputs": [],
   "source": [
    "import numpy as np \n",
    "import pandas as pd"
   ]
  },
  {
   "cell_type": "code",
   "execution_count": 2,
   "id": "residential-newman",
   "metadata": {},
   "outputs": [
    {
     "data": {
      "text/html": [
       "<div>\n",
       "<style scoped>\n",
       "    .dataframe tbody tr th:only-of-type {\n",
       "        vertical-align: middle;\n",
       "    }\n",
       "\n",
       "    .dataframe tbody tr th {\n",
       "        vertical-align: top;\n",
       "    }\n",
       "\n",
       "    .dataframe thead th {\n",
       "        text-align: right;\n",
       "    }\n",
       "</style>\n",
       "<table border=\"1\" class=\"dataframe\">\n",
       "  <thead>\n",
       "    <tr style=\"text-align: right;\">\n",
       "      <th></th>\n",
       "      <th>Type</th>\n",
       "      <th>Price</th>\n",
       "      <th>Buy</th>\n",
       "    </tr>\n",
       "  </thead>\n",
       "  <tbody>\n",
       "    <tr>\n",
       "      <th>0</th>\n",
       "      <td>SUV</td>\n",
       "      <td>H</td>\n",
       "      <td>No</td>\n",
       "    </tr>\n",
       "    <tr>\n",
       "      <th>1</th>\n",
       "      <td>HB</td>\n",
       "      <td>H</td>\n",
       "      <td>No</td>\n",
       "    </tr>\n",
       "    <tr>\n",
       "      <th>2</th>\n",
       "      <td>HB</td>\n",
       "      <td>H</td>\n",
       "      <td>Yes</td>\n",
       "    </tr>\n",
       "    <tr>\n",
       "      <th>3</th>\n",
       "      <td>HB</td>\n",
       "      <td>L</td>\n",
       "      <td>No</td>\n",
       "    </tr>\n",
       "    <tr>\n",
       "      <th>4</th>\n",
       "      <td>SEDAN</td>\n",
       "      <td>H</td>\n",
       "      <td>Yes</td>\n",
       "    </tr>\n",
       "    <tr>\n",
       "      <th>5</th>\n",
       "      <td>SEDAN</td>\n",
       "      <td>L</td>\n",
       "      <td>Yes</td>\n",
       "    </tr>\n",
       "    <tr>\n",
       "      <th>6</th>\n",
       "      <td>SUV</td>\n",
       "      <td>L</td>\n",
       "      <td>No</td>\n",
       "    </tr>\n",
       "    <tr>\n",
       "      <th>7</th>\n",
       "      <td>SEDAN</td>\n",
       "      <td>H</td>\n",
       "      <td>Yes</td>\n",
       "    </tr>\n",
       "    <tr>\n",
       "      <th>8</th>\n",
       "      <td>HB</td>\n",
       "      <td>L</td>\n",
       "      <td>Yes</td>\n",
       "    </tr>\n",
       "    <tr>\n",
       "      <th>9</th>\n",
       "      <td>SUV</td>\n",
       "      <td>Hot</td>\n",
       "      <td>Yes</td>\n",
       "    </tr>\n",
       "  </tbody>\n",
       "</table>\n",
       "</div>"
      ],
      "text/plain": [
       "    Type Price  Buy\n",
       "0    SUV     H   No\n",
       "1     HB     H   No\n",
       "2     HB     H  Yes\n",
       "3     HB     L   No\n",
       "4  SEDAN     H  Yes\n",
       "5  SEDAN     L  Yes\n",
       "6    SUV     L   No\n",
       "7  SEDAN     H  Yes\n",
       "8     HB     L  Yes\n",
       "9    SUV   Hot  Yes"
      ]
     },
     "execution_count": 2,
     "metadata": {},
     "output_type": "execute_result"
    }
   ],
   "source": [
    "#loading the data from the dataset samplecar.csv\n",
    "data = pd.read_csv('samplecar.csv')\n",
    "data"
   ]
  },
  {
   "cell_type": "markdown",
   "id": "environmental-bristol",
   "metadata": {},
   "source": [
    "We see that there is an error in the dataset. There is a price with a value called \"Hot\" while everything else has just H which indicates High price. Let's replace that wrong data with a correct one.\n",
    "\n",
    "# Sir, can we discuss about Find-S Algorithm and Candidate Elimination Algorithm for this one? To replace \"Hot\" with \"H\"?\n",
    "\n",
    "### This time, I've set it manually. "
   ]
  },
  {
   "cell_type": "code",
   "execution_count": 3,
   "id": "0e82c6e9",
   "metadata": {},
   "outputs": [
    {
     "data": {
      "text/html": [
       "<div>\n",
       "<style scoped>\n",
       "    .dataframe tbody tr th:only-of-type {\n",
       "        vertical-align: middle;\n",
       "    }\n",
       "\n",
       "    .dataframe tbody tr th {\n",
       "        vertical-align: top;\n",
       "    }\n",
       "\n",
       "    .dataframe thead th {\n",
       "        text-align: right;\n",
       "    }\n",
       "</style>\n",
       "<table border=\"1\" class=\"dataframe\">\n",
       "  <thead>\n",
       "    <tr style=\"text-align: right;\">\n",
       "      <th></th>\n",
       "      <th>Type</th>\n",
       "      <th>Price</th>\n",
       "      <th>Buy</th>\n",
       "    </tr>\n",
       "  </thead>\n",
       "  <tbody>\n",
       "    <tr>\n",
       "      <th>0</th>\n",
       "      <td>SUV</td>\n",
       "      <td>H</td>\n",
       "      <td>No</td>\n",
       "    </tr>\n",
       "    <tr>\n",
       "      <th>1</th>\n",
       "      <td>HB</td>\n",
       "      <td>H</td>\n",
       "      <td>No</td>\n",
       "    </tr>\n",
       "    <tr>\n",
       "      <th>2</th>\n",
       "      <td>HB</td>\n",
       "      <td>H</td>\n",
       "      <td>Yes</td>\n",
       "    </tr>\n",
       "    <tr>\n",
       "      <th>3</th>\n",
       "      <td>HB</td>\n",
       "      <td>L</td>\n",
       "      <td>No</td>\n",
       "    </tr>\n",
       "    <tr>\n",
       "      <th>4</th>\n",
       "      <td>SEDAN</td>\n",
       "      <td>H</td>\n",
       "      <td>Yes</td>\n",
       "    </tr>\n",
       "    <tr>\n",
       "      <th>5</th>\n",
       "      <td>SEDAN</td>\n",
       "      <td>L</td>\n",
       "      <td>Yes</td>\n",
       "    </tr>\n",
       "    <tr>\n",
       "      <th>6</th>\n",
       "      <td>SUV</td>\n",
       "      <td>L</td>\n",
       "      <td>No</td>\n",
       "    </tr>\n",
       "    <tr>\n",
       "      <th>7</th>\n",
       "      <td>SEDAN</td>\n",
       "      <td>H</td>\n",
       "      <td>Yes</td>\n",
       "    </tr>\n",
       "    <tr>\n",
       "      <th>8</th>\n",
       "      <td>HB</td>\n",
       "      <td>L</td>\n",
       "      <td>Yes</td>\n",
       "    </tr>\n",
       "    <tr>\n",
       "      <th>9</th>\n",
       "      <td>SUV</td>\n",
       "      <td>H</td>\n",
       "      <td>Yes</td>\n",
       "    </tr>\n",
       "  </tbody>\n",
       "</table>\n",
       "</div>"
      ],
      "text/plain": [
       "    Type Price  Buy\n",
       "0    SUV     H   No\n",
       "1     HB     H   No\n",
       "2     HB     H  Yes\n",
       "3     HB     L   No\n",
       "4  SEDAN     H  Yes\n",
       "5  SEDAN     L  Yes\n",
       "6    SUV     L   No\n",
       "7  SEDAN     H  Yes\n",
       "8     HB     L  Yes\n",
       "9    SUV     H  Yes"
      ]
     },
     "execution_count": 3,
     "metadata": {},
     "output_type": "execute_result"
    }
   ],
   "source": [
    "data = data.replace(to_replace=\"Hot\", value=\"H\")\n",
    "data"
   ]
  },
  {
   "cell_type": "code",
   "execution_count": 4,
   "id": "2c41d4f1",
   "metadata": {},
   "outputs": [],
   "source": [
    "features = data.iloc[:,:-1]\n",
    "target = data.iloc[:,-1:]\n",
    "\n",
    "assert features.shape[0] == target.shape[0], \" len(features) == len(target)\""
   ]
  },
  {
   "cell_type": "code",
   "execution_count": 5,
   "id": "392d12e2",
   "metadata": {},
   "outputs": [],
   "source": [
    "tot = len(data)\n",
    "# here are 2 classes, so we take the total number of nos' and total number of yes'\n",
    "tot_n = data[data['Buy'] == 'No'].shape[0]\n",
    "tot_y =  data[data['Buy'] == 'Yes'].shape[0]"
   ]
  },
  {
   "cell_type": "code",
   "execution_count": 6,
   "id": "c3492fb4",
   "metadata": {},
   "outputs": [
    {
     "data": {
      "text/plain": [
       "0.9709505944546686"
      ]
     },
     "execution_count": 6,
     "metadata": {},
     "output_type": "execute_result"
    }
   ],
   "source": [
    "prob_y = tot_y/tot\n",
    "prob_n = tot_n/tot\n",
    "e_tot = -(prob_y*np.log2(prob_y)) - (prob_n*np.log2(prob_n))\n",
    "#this gives the total entropy of the dataset\n",
    "e_tot"
   ]
  },
  {
   "cell_type": "markdown",
   "id": "f56e7449",
   "metadata": {},
   "source": [
    "# Let us now go through each Attributes of the dataset and calculate their respective average information that we get. Here are two attributes: Car Type and Car Price"
   ]
  },
  {
   "cell_type": "markdown",
   "id": "original-testament",
   "metadata": {},
   "source": [
    "\n",
    "## 1. For Car Type"
   ]
  },
  {
   "cell_type": "code",
   "execution_count": 7,
   "id": "690a9272",
   "metadata": {
    "scrolled": true
   },
   "outputs": [
    {
     "data": {
      "text/plain": [
       "array(['SUV', 'HB', 'SEDAN'], dtype=object)"
      ]
     },
     "execution_count": 7,
     "metadata": {},
     "output_type": "execute_result"
    }
   ],
   "source": [
    "data['Type'].unique()"
   ]
  },
  {
   "cell_type": "markdown",
   "id": "appointed-begin",
   "metadata": {},
   "source": [
    "### There are three types of cars : SUV, HB, SEDAN"
   ]
  },
  {
   "cell_type": "markdown",
   "id": "interesting-psychiatry",
   "metadata": {},
   "source": [
    "#### 1.1. Entropy and Probability"
   ]
  },
  {
   "cell_type": "markdown",
   "id": "vertical-listing",
   "metadata": {},
   "source": [
    "For SUV, there are 3 total samples in the dataset. Where yes=1 and no=2"
   ]
  },
  {
   "cell_type": "code",
   "execution_count": 8,
   "id": "07be381a",
   "metadata": {},
   "outputs": [
    {
     "name": "stdout",
     "output_type": "stream",
     "text": [
      "Entropy : 0.9182958340544896\n",
      "Probability : 0.3\n"
     ]
    }
   ],
   "source": [
    "tot_suv = data[data['Type'] == 'SUV'].shape[0]\n",
    "p_suv_yes = len(data[(data.Type == 'SUV') & (data.Buy == 'Yes')])/tot_suv\n",
    "p_suv_no = len(data[(data.Type == 'SUV') & (data.Buy == 'No')])/tot_suv\n",
    "\n",
    "#calculating entropy\n",
    "e_suv = -(p_suv_yes*np.log2(p_suv_yes)) - (p_suv_no*np.log2(p_suv_no)) \n",
    "\n",
    "\n",
    "#probability of SUV in the dataset\n",
    "p_suv = tot_suv/tot\n",
    "\n",
    "\n",
    "print(f\"Entropy : {e_suv}\\nProbability : {p_suv}\")"
   ]
  },
  {
   "cell_type": "markdown",
   "id": "ordinary-shakespeare",
   "metadata": {},
   "source": [
    "For HB, there are 4 total samples in the dataset. Where yes=2 and no=2"
   ]
  },
  {
   "cell_type": "code",
   "execution_count": 9,
   "id": "0f69cfb1",
   "metadata": {},
   "outputs": [
    {
     "name": "stdout",
     "output_type": "stream",
     "text": [
      "Entropy : 1.0\n",
      "Probability : 0.4\n"
     ]
    }
   ],
   "source": [
    "tot_HB = data[data['Type'] == 'HB'].shape[0]\n",
    "p_HB_y = len(data[(data.Type == 'HB') & (data.Buy == 'Yes')])/tot_HB\n",
    "p_HB_n = len(data[(data.Type == 'HB') & (data.Buy == 'No')])/tot_HB\n",
    "\n",
    "#calculating entropy \n",
    "e_hb = -(p_HB_y*np.log2(p_HB_y)) - (p_HB_n*np.log2(p_HB_n))\n",
    "\n",
    "#probability of HB in dataset\n",
    "p_hb = tot_HB/tot\n",
    "\n",
    "print(f\"Entropy : {e_hb}\\nProbability : {p_hb}\")"
   ]
  },
  {
   "cell_type": "markdown",
   "id": "silver-wrist",
   "metadata": {},
   "source": [
    "For Sedan, there are 3 total samples in the dataset. Where yes=3 and no=1"
   ]
  },
  {
   "cell_type": "code",
   "execution_count": 10,
   "id": "2a8f6a37",
   "metadata": {},
   "outputs": [
    {
     "name": "stdout",
     "output_type": "stream",
     "text": [
      "Entropy : -0.0\n",
      "Probability : 0.3\n"
     ]
    }
   ],
   "source": [
    "tot_sed = data[data['Type'] == 'SEDAN'].shape[0]\n",
    "p_sed_y = len(data[(data.Type == 'SEDAN') & (data.Buy == 'Yes')])/tot_sed\n",
    "p_sed_n = len(data[(data.Type == 'SEDAN') & (data.Buy == 'No')])/tot_sed\n",
    "\n",
    "#calculating entropy\n",
    "e_sed = -(p_sed_y*np.log2(p_sed_y)) - (p_sed_y*np.log2(p_sed_y))\n",
    "\n",
    "#probability of Sedan in dataset\n",
    "p_sed = tot_sed/tot\n",
    "\n",
    "print(f\"Entropy : {e_sed}\\nProbability : {p_sed}\")"
   ]
  },
  {
   "cell_type": "markdown",
   "id": "twenty-penalty",
   "metadata": {},
   "source": [
    "#### 1.2. Average Information"
   ]
  },
  {
   "cell_type": "code",
   "execution_count": 11,
   "id": "detailed-details",
   "metadata": {},
   "outputs": [
    {
     "name": "stdout",
     "output_type": "stream",
     "text": [
      "Average Information for the Cartype\n",
      "I(cartype) = 0.6754887502163469\n"
     ]
    }
   ],
   "source": [
    "I_cartype = p_suv * e_suv + p_hb * e_hb + p_sed * e_sed\n",
    "print(f\"Average Information for the Cartype\\nI(cartype) = {I_cartype}\")"
   ]
  },
  {
   "cell_type": "markdown",
   "id": "extraordinary-tennessee",
   "metadata": {},
   "source": [
    "  "
   ]
  },
  {
   "cell_type": "markdown",
   "id": "d7de69af",
   "metadata": {},
   "source": [
    "## 2. For Car price\n"
   ]
  },
  {
   "cell_type": "code",
   "execution_count": 12,
   "id": "0b513ec5",
   "metadata": {},
   "outputs": [
    {
     "data": {
      "text/plain": [
       "array(['H', 'L'], dtype=object)"
      ]
     },
     "execution_count": 12,
     "metadata": {},
     "output_type": "execute_result"
    }
   ],
   "source": [
    "data['Price'].unique()"
   ]
  },
  {
   "cell_type": "markdown",
   "id": "united-shower",
   "metadata": {},
   "source": [
    "### There are two categories for the price, High or Low. "
   ]
  },
  {
   "cell_type": "markdown",
   "id": "still-mayor",
   "metadata": {},
   "source": [
    "#### 2.1. Entropy and Probability"
   ]
  },
  {
   "cell_type": "markdown",
   "id": "worth-large",
   "metadata": {},
   "source": [
    "For <b>High</b>, there are 6 total samples, where yes=4 and no=2"
   ]
  },
  {
   "cell_type": "code",
   "execution_count": 13,
   "id": "eef6ee43",
   "metadata": {},
   "outputs": [
    {
     "name": "stdout",
     "output_type": "stream",
     "text": [
      "Entropy : 0.9182958340544896\n",
      "Probability : 0.6\n"
     ]
    }
   ],
   "source": [
    "tot_high = len(data[data.Price == 'H'])\n",
    "p_high_y = len(data[(data.Price == 'H') & (data.Buy == 'Yes')])/tot_high\n",
    "p_high_n = len(data[(data.Price == 'H') & (data.Buy == 'No')])/tot_high\n",
    "\n",
    "#entropy for high\n",
    "e_high = -(p_high_y *np.log2(p_high_y ))- (p_high_n*np.log2(p_high_n))\n",
    "\n",
    "#probability of High in dataaset\n",
    "p_high = tot_high/tot\n",
    "\n",
    "print(f\"Entropy : {e_high}\\nProbability : {p_high}\")"
   ]
  },
  {
   "cell_type": "markdown",
   "id": "accredited-grant",
   "metadata": {},
   "source": [
    "For <b>Low</b>, there are 4 total samples, where yes=2 and no=2"
   ]
  },
  {
   "cell_type": "code",
   "execution_count": 14,
   "id": "4f1d26dd",
   "metadata": {
    "scrolled": true
   },
   "outputs": [
    {
     "name": "stdout",
     "output_type": "stream",
     "text": [
      "Entropy : 1.0\n",
      "Probability : 0.4\n"
     ]
    }
   ],
   "source": [
    "tot_low = len(data[data.Price == 'L'])\n",
    "p_low_y = len(data[(data.Price == 'L') & (data.Buy == 'Yes')])/tot_low\n",
    "p_low_n = len(data[(data.Price == 'L') & (data.Buy == 'No')])/tot_low\n",
    "\n",
    "#entropy for low\n",
    "e_low = -(p_low_y *np.log2(p_low_y ))- (p_low_n*np.log2(p_low_n))\n",
    "\n",
    "#probability of High in dataaset\n",
    "p_low = tot_low/tot\n",
    "\n",
    "print(f\"Entropy : {e_low}\\nProbability : {p_low}\")"
   ]
  },
  {
   "cell_type": "markdown",
   "id": "animal-weapon",
   "metadata": {},
   "source": [
    "#### 2.2. Average Information"
   ]
  },
  {
   "cell_type": "code",
   "execution_count": 15,
   "id": "technical-madagascar",
   "metadata": {},
   "outputs": [
    {
     "name": "stdout",
     "output_type": "stream",
     "text": [
      "Average Information for the Price\n",
      "I(price) = 0.9509775004326937\n"
     ]
    }
   ],
   "source": [
    "I_price = p_high* e_high + p_low *e_low\n",
    "print(f\"Average Information for the Price\\nI(price) = {I_price}\")"
   ]
  },
  {
   "cell_type": "markdown",
   "id": "62ecdd79",
   "metadata": {},
   "source": [
    "# Information Gain.\n",
    "\n",
    "## We calculate Information gain of each arrtibute in the dataset. We see the difference between Entropy of the whole dataset Entropy(S) and the Average Information of each attribute that we have in the dataset."
   ]
  },
  {
   "cell_type": "markdown",
   "id": "floral-rates",
   "metadata": {},
   "source": [
    "    "
   ]
  },
  {
   "cell_type": "markdown",
   "id": "offshore-certificate",
   "metadata": {},
   "source": [
    "## 1. For Car Type"
   ]
  },
  {
   "cell_type": "code",
   "execution_count": 16,
   "id": "fcd61e44",
   "metadata": {},
   "outputs": [
    {
     "name": "stdout",
     "output_type": "stream",
     "text": [
      "Information Gain of Cartype : 0.29546184423832167\n"
     ]
    }
   ],
   "source": [
    "gain_att1 = e_tot - I_cartype\n",
    "print(f\"Information Gain of Cartype : {gain_att1}\")"
   ]
  },
  {
   "cell_type": "markdown",
   "id": "amended-surrey",
   "metadata": {},
   "source": [
    "## 2. For Car Price"
   ]
  },
  {
   "cell_type": "code",
   "execution_count": 17,
   "id": "564f215b",
   "metadata": {},
   "outputs": [
    {
     "name": "stdout",
     "output_type": "stream",
     "text": [
      "Information Gain of Price : 0.01997309402197489\n"
     ]
    }
   ],
   "source": [
    "gain_att2 = e_tot - I_price\n",
    "print(f\"Information Gain of Price : {gain_att2}\")"
   ]
  },
  {
   "cell_type": "markdown",
   "id": "5a2c1d44",
   "metadata": {},
   "source": [
    "# Since, Car type has higher information gain than Price, it can be used as the root node for our tree."
   ]
  }
 ],
 "metadata": {
  "kernelspec": {
   "display_name": "Python 3 (ipykernel)",
   "language": "python",
   "name": "python3"
  },
  "language_info": {
   "codemirror_mode": {
    "name": "ipython",
    "version": 3
   },
   "file_extension": ".py",
   "mimetype": "text/x-python",
   "name": "python",
   "nbconvert_exporter": "python",
   "pygments_lexer": "ipython3",
   "version": "3.8.10"
  }
 },
 "nbformat": 4,
 "nbformat_minor": 5
}
